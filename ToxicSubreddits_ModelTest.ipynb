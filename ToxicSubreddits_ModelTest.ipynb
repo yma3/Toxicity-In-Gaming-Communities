{
  "nbformat": 4,
  "nbformat_minor": 0,
  "metadata": {
    "colab": {
      "name": "ToxicSubreddits_ModelTest",
      "provenance": [],
      "collapsed_sections": [],
      "mount_file_id": "1518t7Y_hAWeNC-bTC8NLq6-aVhE_srSb",
      "authorship_tag": "ABX9TyMGR5riqa5vm3pVyEfHblaO",
      "include_colab_link": true
    },
    "kernelspec": {
      "name": "python3",
      "display_name": "Python 3"
    }
  },
  "cells": [
    {
      "cell_type": "markdown",
      "metadata": {
        "id": "view-in-github",
        "colab_type": "text"
      },
      "source": [
        "<a href=\"https://colab.research.google.com/github/yma3/Toxicity-In-Gaming-Communities/blob/master/ToxicSubreddits_ModelTest.ipynb\" target=\"_parent\"><img src=\"https://colab.research.google.com/assets/colab-badge.svg\" alt=\"Open In Colab\"/></a>"
      ]
    },
    {
      "cell_type": "code",
      "metadata": {
        "id": "CdUelH4qTUXr",
        "colab_type": "code",
        "colab": {}
      },
      "source": [
        "from google.colab import drive\n",
        "import os\n",
        "\n",
        "from keras.models import load_model"
      ],
      "execution_count": 7,
      "outputs": []
    },
    {
      "cell_type": "code",
      "metadata": {
        "id": "gxTLltwjaQ99",
        "colab_type": "code",
        "colab": {
          "base_uri": "https://localhost:8080/",
          "height": 34
        },
        "outputId": "6390dcc1-07cd-4f09-a0ca-ea4a82d7be2a"
      },
      "source": [
        "# drive.mount('/content/drive/')\n",
        "data_dir = '/content/drive/My Drive/ColabData/ToxicComments/'\n",
        "os.listdir(data_dir)\n"
      ],
      "execution_count": 6,
      "outputs": [
        {
          "output_type": "execute_result",
          "data": {
            "text/plain": [
              "['train.csv', 'test.csv', 'test_labels.csv', 'jigsawmodel.h5']"
            ]
          },
          "metadata": {
            "tags": []
          },
          "execution_count": 6
        }
      ]
    },
    {
      "cell_type": "code",
      "metadata": {
        "id": "Vbq8bFA-auu3",
        "colab_type": "code",
        "colab": {}
      },
      "source": [
        "model = load_model(data_dir + 'jigsawmodel.h5')"
      ],
      "execution_count": 9,
      "outputs": []
    }
  ]
}