{
  "nbformat": 4,
  "nbformat_minor": 0,
  "metadata": {
    "colab": {
      "name": "Jigsaw Toxic Communities Challenge Solution",
      "provenance": [],
      "collapsed_sections": [],
      "mount_file_id": "1zPTvobzH7VB8cEhajY8fp2CUZphyfOv1",
      "authorship_tag": "ABX9TyOuSoMicZ4p/iczJvF33hX8"
    },
    "kernelspec": {
      "name": "python3",
      "display_name": "Python 3"
    },
    "accelerator": "TPU"
  },
  "cells": [
    {
      "cell_type": "markdown",
      "metadata": {
        "id": "QrveIBxIjy9l"
      },
      "source": [
        "# Toxicity in Video Game Communities\n",
        "Toxicity is a prelevant part of gaming whether it be in or out of games. Players insult others due to a variety of reasons. Due to the lack of personal interaction over the internet, toxic players are unable to see the direct effect of their toxic behaviors. This notebook aims to answer some questions regarding the toxicity in these communities.\n",
        "\n",
        "As a fan of MMORPGs, I've played both Final Fantasy 14 by Square Enix, and World of Warcraft by Blizzard Entertainment. In general, it seems as though the MMORPG communities believe WoW to be a more toxic environment, and that FF14 is more catered to friendly or 'casual' play. I wanted to see if this truly was the case.\n",
        "\n",
        "## Jigsaw Toxic Comments Challenge\n",
        "This notebook uses data taken from the jigsaw toxic comments challenge on Kaggle to act as a dataset for toxic comments. Although toxicity in the Jigsaw challenge was multiclass, I simplified the problem to be purely a binary classification problem. This was so that the reduction in the problem complexity could provide a more accurate answer to the question, 'is WoW more toxic than FF14?'\n",
        "\n",
        "### LSTM Model\n",
        "To accomplish this task, I used Tensorflow and Keras to implement an RNN using a word embedding layer and a bidirectional LSTM. As this is written originally with Google Colab, I used Google Colab's TPUs to train the network. The network was only trained for 5 epochs, but showed decent results as a baseline on the Jigsaw problem. I added bits of regularization and tuned some hyperparameters, as the model overfits often.\n",
        "\n",
        "The jigsaw problem resulted in an accuracy of only 87% on the test case.\n",
        "\n",
        "### Data from Reddit Comments\n",
        "This model was then used to predict comments on the gaming subreddits. I used /r/wow and /r/ffxiv. Data from these comments were taken using the Pushshift API in a randomly chosen week. The data was saved into CSVs and then converted into Pandas dataframes from which we process and send to the model.\n",
        "\n",
        "The result from this initial test is that FF14 contains ~6% toxic comments whereas WoW contains ~8%. This does seem to indicate a higher level of toxicity in WoW than in FF14. However, this is only with a single sample taken over a week. As this is only a preliminary test, there are many things we can do to improve the performance of the network.\n",
        "\n",
        "## Future Work\n",
        "Getting data from the subreddits and then labeling them into a dev-set would give a representation of how our model is doing on the actual data (subreddit comments). The current validation set and test set comes from the Jigsaw comment challenge, and is not of the same data distribution of subreddit comments. By having labeled data and then using a transfer learning approach, we can develop a model that performs better on the subreddit comments.\n",
        "\n",
        "Also, tuning the model to perform better on the Jigsaw training-dev set could also provide a better starting point for our model."
      ]
    },
    {
      "cell_type": "code",
      "metadata": {
        "id": "CbItWop9SHPi",
        "outputId": "de2416ab-d078-48fb-cf8e-d215eb6fdc95",
        "colab": {
          "base_uri": "https://localhost:8080/",
          "height": 34
        }
      },
      "source": [
        "from google.colab import drive\n",
        "import os\n",
        "import tensorflow as tf\n",
        "import numpy as np\n",
        "\n",
        "from keras.models import Model, Sequential\n",
        "from keras.layers import Dense, Embedding, Input\n",
        "from keras.layers import LSTM, Bidirectional, GlobalMaxPool1D, Dropout, GRU\n",
        "from keras.preprocessing import text, sequence\n",
        "from keras.callbacks import EarlyStopping, ModelCheckpoint\n",
        "from keras.optimizers import Adam\n",
        "\n",
        "from sklearn.model_selection import train_test_split\n",
        "from sklearn.metrics import confusion_matrix, roc_curve, auc\n",
        "\n",
        "import pandas as pd\n",
        "from tqdm import tqdm\n",
        "print(tf.__version__)"
      ],
      "execution_count": 32,
      "outputs": [
        {
          "output_type": "stream",
          "text": [
            "2.3.0\n"
          ],
          "name": "stdout"
        }
      ]
    },
    {
      "cell_type": "code",
      "metadata": {
        "id": "-WTRPjEffyqe",
        "outputId": "c5ede0bb-8b85-4047-9ff5-3beeffe7cefe",
        "colab": {
          "base_uri": "https://localhost:8080/",
          "height": 731
        }
      },
      "source": [
        "# TPU Connection\n",
        "try:\n",
        "  tpu = tf.distribute.cluster_resolver.TPUClusterResolver()  # TPU detection\n",
        "  print('Running on TPU ', tpu.cluster_spec().as_dict()['worker'])\n",
        "except ValueError:\n",
        "  raise BaseException('ERROR: Not connected to a TPU runtime; please see the previous cell in this notebook for instructions!')\n",
        "\n",
        "tf.config.experimental_connect_to_cluster(tpu)\n",
        "tf.tpu.experimental.initialize_tpu_system(tpu)\n",
        "tpu_strategy = tf.distribute.experimental.TPUStrategy(tpu)"
      ],
      "execution_count": 2,
      "outputs": [
        {
          "output_type": "stream",
          "text": [
            "Running on TPU  ['10.118.86.50:8470']\n",
            "INFO:tensorflow:Initializing the TPU system: grpc://10.118.86.50:8470\n"
          ],
          "name": "stdout"
        },
        {
          "output_type": "stream",
          "text": [
            "INFO:tensorflow:Initializing the TPU system: grpc://10.118.86.50:8470\n"
          ],
          "name": "stderr"
        },
        {
          "output_type": "stream",
          "text": [
            "INFO:tensorflow:Clearing out eager caches\n"
          ],
          "name": "stdout"
        },
        {
          "output_type": "stream",
          "text": [
            "INFO:tensorflow:Clearing out eager caches\n"
          ],
          "name": "stderr"
        },
        {
          "output_type": "stream",
          "text": [
            "INFO:tensorflow:Finished initializing TPU system.\n"
          ],
          "name": "stdout"
        },
        {
          "output_type": "stream",
          "text": [
            "INFO:tensorflow:Finished initializing TPU system.\n",
            "WARNING:absl:`tf.distribute.experimental.TPUStrategy` is deprecated, please use  the non experimental symbol `tf.distribute.TPUStrategy` instead.\n"
          ],
          "name": "stderr"
        },
        {
          "output_type": "stream",
          "text": [
            "INFO:tensorflow:Found TPU system:\n"
          ],
          "name": "stdout"
        },
        {
          "output_type": "stream",
          "text": [
            "INFO:tensorflow:Found TPU system:\n"
          ],
          "name": "stderr"
        },
        {
          "output_type": "stream",
          "text": [
            "INFO:tensorflow:*** Num TPU Cores: 8\n"
          ],
          "name": "stdout"
        },
        {
          "output_type": "stream",
          "text": [
            "INFO:tensorflow:*** Num TPU Cores: 8\n"
          ],
          "name": "stderr"
        },
        {
          "output_type": "stream",
          "text": [
            "INFO:tensorflow:*** Num TPU Workers: 1\n"
          ],
          "name": "stdout"
        },
        {
          "output_type": "stream",
          "text": [
            "INFO:tensorflow:*** Num TPU Workers: 1\n"
          ],
          "name": "stderr"
        },
        {
          "output_type": "stream",
          "text": [
            "INFO:tensorflow:*** Num TPU Cores Per Worker: 8\n"
          ],
          "name": "stdout"
        },
        {
          "output_type": "stream",
          "text": [
            "INFO:tensorflow:*** Num TPU Cores Per Worker: 8\n"
          ],
          "name": "stderr"
        },
        {
          "output_type": "stream",
          "text": [
            "INFO:tensorflow:*** Available Device: _DeviceAttributes(/job:localhost/replica:0/task:0/device:CPU:0, CPU, 0, 0)\n"
          ],
          "name": "stdout"
        },
        {
          "output_type": "stream",
          "text": [
            "INFO:tensorflow:*** Available Device: _DeviceAttributes(/job:localhost/replica:0/task:0/device:CPU:0, CPU, 0, 0)\n"
          ],
          "name": "stderr"
        },
        {
          "output_type": "stream",
          "text": [
            "INFO:tensorflow:*** Available Device: _DeviceAttributes(/job:localhost/replica:0/task:0/device:XLA_CPU:0, XLA_CPU, 0, 0)\n"
          ],
          "name": "stdout"
        },
        {
          "output_type": "stream",
          "text": [
            "INFO:tensorflow:*** Available Device: _DeviceAttributes(/job:localhost/replica:0/task:0/device:XLA_CPU:0, XLA_CPU, 0, 0)\n"
          ],
          "name": "stderr"
        },
        {
          "output_type": "stream",
          "text": [
            "INFO:tensorflow:*** Available Device: _DeviceAttributes(/job:worker/replica:0/task:0/device:CPU:0, CPU, 0, 0)\n"
          ],
          "name": "stdout"
        },
        {
          "output_type": "stream",
          "text": [
            "INFO:tensorflow:*** Available Device: _DeviceAttributes(/job:worker/replica:0/task:0/device:CPU:0, CPU, 0, 0)\n"
          ],
          "name": "stderr"
        },
        {
          "output_type": "stream",
          "text": [
            "INFO:tensorflow:*** Available Device: _DeviceAttributes(/job:worker/replica:0/task:0/device:TPU:0, TPU, 0, 0)\n"
          ],
          "name": "stdout"
        },
        {
          "output_type": "stream",
          "text": [
            "INFO:tensorflow:*** Available Device: _DeviceAttributes(/job:worker/replica:0/task:0/device:TPU:0, TPU, 0, 0)\n"
          ],
          "name": "stderr"
        },
        {
          "output_type": "stream",
          "text": [
            "INFO:tensorflow:*** Available Device: _DeviceAttributes(/job:worker/replica:0/task:0/device:TPU:1, TPU, 0, 0)\n"
          ],
          "name": "stdout"
        },
        {
          "output_type": "stream",
          "text": [
            "INFO:tensorflow:*** Available Device: _DeviceAttributes(/job:worker/replica:0/task:0/device:TPU:1, TPU, 0, 0)\n"
          ],
          "name": "stderr"
        },
        {
          "output_type": "stream",
          "text": [
            "INFO:tensorflow:*** Available Device: _DeviceAttributes(/job:worker/replica:0/task:0/device:TPU:2, TPU, 0, 0)\n"
          ],
          "name": "stdout"
        },
        {
          "output_type": "stream",
          "text": [
            "INFO:tensorflow:*** Available Device: _DeviceAttributes(/job:worker/replica:0/task:0/device:TPU:2, TPU, 0, 0)\n"
          ],
          "name": "stderr"
        },
        {
          "output_type": "stream",
          "text": [
            "INFO:tensorflow:*** Available Device: _DeviceAttributes(/job:worker/replica:0/task:0/device:TPU:3, TPU, 0, 0)\n"
          ],
          "name": "stdout"
        },
        {
          "output_type": "stream",
          "text": [
            "INFO:tensorflow:*** Available Device: _DeviceAttributes(/job:worker/replica:0/task:0/device:TPU:3, TPU, 0, 0)\n"
          ],
          "name": "stderr"
        },
        {
          "output_type": "stream",
          "text": [
            "INFO:tensorflow:*** Available Device: _DeviceAttributes(/job:worker/replica:0/task:0/device:TPU:4, TPU, 0, 0)\n"
          ],
          "name": "stdout"
        },
        {
          "output_type": "stream",
          "text": [
            "INFO:tensorflow:*** Available Device: _DeviceAttributes(/job:worker/replica:0/task:0/device:TPU:4, TPU, 0, 0)\n"
          ],
          "name": "stderr"
        },
        {
          "output_type": "stream",
          "text": [
            "INFO:tensorflow:*** Available Device: _DeviceAttributes(/job:worker/replica:0/task:0/device:TPU:5, TPU, 0, 0)\n"
          ],
          "name": "stdout"
        },
        {
          "output_type": "stream",
          "text": [
            "INFO:tensorflow:*** Available Device: _DeviceAttributes(/job:worker/replica:0/task:0/device:TPU:5, TPU, 0, 0)\n"
          ],
          "name": "stderr"
        },
        {
          "output_type": "stream",
          "text": [
            "INFO:tensorflow:*** Available Device: _DeviceAttributes(/job:worker/replica:0/task:0/device:TPU:6, TPU, 0, 0)\n"
          ],
          "name": "stdout"
        },
        {
          "output_type": "stream",
          "text": [
            "INFO:tensorflow:*** Available Device: _DeviceAttributes(/job:worker/replica:0/task:0/device:TPU:6, TPU, 0, 0)\n"
          ],
          "name": "stderr"
        },
        {
          "output_type": "stream",
          "text": [
            "INFO:tensorflow:*** Available Device: _DeviceAttributes(/job:worker/replica:0/task:0/device:TPU:7, TPU, 0, 0)\n"
          ],
          "name": "stdout"
        },
        {
          "output_type": "stream",
          "text": [
            "INFO:tensorflow:*** Available Device: _DeviceAttributes(/job:worker/replica:0/task:0/device:TPU:7, TPU, 0, 0)\n"
          ],
          "name": "stderr"
        },
        {
          "output_type": "stream",
          "text": [
            "INFO:tensorflow:*** Available Device: _DeviceAttributes(/job:worker/replica:0/task:0/device:TPU_SYSTEM:0, TPU_SYSTEM, 0, 0)\n"
          ],
          "name": "stdout"
        },
        {
          "output_type": "stream",
          "text": [
            "INFO:tensorflow:*** Available Device: _DeviceAttributes(/job:worker/replica:0/task:0/device:TPU_SYSTEM:0, TPU_SYSTEM, 0, 0)\n"
          ],
          "name": "stderr"
        },
        {
          "output_type": "stream",
          "text": [
            "INFO:tensorflow:*** Available Device: _DeviceAttributes(/job:worker/replica:0/task:0/device:XLA_CPU:0, XLA_CPU, 0, 0)\n"
          ],
          "name": "stdout"
        },
        {
          "output_type": "stream",
          "text": [
            "INFO:tensorflow:*** Available Device: _DeviceAttributes(/job:worker/replica:0/task:0/device:XLA_CPU:0, XLA_CPU, 0, 0)\n"
          ],
          "name": "stderr"
        }
      ]
    },
    {
      "cell_type": "code",
      "metadata": {
        "id": "84A8CqQKVQFZ",
        "outputId": "1f1070d8-6805-4b24-e160-b8a51b6d9567",
        "colab": {
          "base_uri": "https://localhost:8080/",
          "height": 255
        }
      },
      "source": [
        "# Mount google drive and select correct files\n",
        "\n",
        "# drive.mount('/content/drive/')\n",
        "data_dir = '/content/drive/My Drive/ColabData/ToxicComments/'\n",
        "# !ls /content/drive/My\\ Drive/ColabData/ToxicComments\n",
        "os.listdir(data_dir)"
      ],
      "execution_count": 4,
      "outputs": [
        {
          "output_type": "execute_result",
          "data": {
            "text/plain": [
              "['train.csv',\n",
              " 'test.csv',\n",
              " 'test_labels.csv',\n",
              " 'leagueoflegends2020-07-30to2020-08-06.csv',\n",
              " 'wow2020-07-30to2020-08-06.csv',\n",
              " 'ffxiv2020-07-30to2020-08-06.csv',\n",
              " 'token_json.txt',\n",
              " 'jigsawmodel.h5',\n",
              " 'wow500.csv',\n",
              " 'ff500.csv',\n",
              " 'lol500.csv',\n",
              " 'wow500.gsheet',\n",
              " 'lol500.gsheet',\n",
              " 'ff500.gsheet']"
            ]
          },
          "metadata": {
            "tags": []
          },
          "execution_count": 4
        }
      ]
    },
    {
      "cell_type": "code",
      "metadata": {
        "id": "tJfFGQAyYhlX"
      },
      "source": [
        "traindf = pd.read_csv(data_dir+'train.csv')\n",
        "testdf = pd.read_csv(data_dir+'test.csv')\n",
        "test_labelsdf = pd.read_csv(data_dir+'test_labels.csv')"
      ],
      "execution_count": 5,
      "outputs": []
    },
    {
      "cell_type": "code",
      "metadata": {
        "id": "Vzh4gXfFY9pI"
      },
      "source": [
        "# print(traindf.isnull().any(), testdf.isnull().any())\n",
        "# traindf.head()\n",
        "# testdf.head()\n",
        "# test_labelsdf.head()\n",
        "# test_labelsdf['toxic'].value_counts()\n",
        "# traindf['toxic'].value_counts()\n"
      ],
      "execution_count": null,
      "outputs": []
    },
    {
      "cell_type": "code",
      "metadata": {
        "id": "-_d-YRrxaWWQ",
        "outputId": "7a4d0093-9917-4fa2-d24c-c1fd9a08c7f8",
        "colab": {
          "base_uri": "https://localhost:8080/",
          "height": 51
        }
      },
      "source": [
        "toxcols = list(traindf.columns[2:])\n",
        "print(toxcols)\n",
        "istoxic = [0 for i in range(len(traindf))]\n",
        "ids = []\n",
        "for i in tqdm(range(len(traindf))):\n",
        "  for col in toxcols:\n",
        "    if traindf[col][i] == 1:\n",
        "      istoxic[i] = 1\n",
        "traindf['istoxic'] = istoxic"
      ],
      "execution_count": 6,
      "outputs": [
        {
          "output_type": "stream",
          "text": [
            "  1%|▏         | 2254/159571 [00:00<00:06, 22534.81it/s]"
          ],
          "name": "stderr"
        },
        {
          "output_type": "stream",
          "text": [
            "['toxic', 'severe_toxic', 'obscene', 'threat', 'insult', 'identity_hate']\n"
          ],
          "name": "stdout"
        },
        {
          "output_type": "stream",
          "text": [
            "100%|██████████| 159571/159571 [00:06<00:00, 24722.44it/s]\n"
          ],
          "name": "stderr"
        }
      ]
    },
    {
      "cell_type": "code",
      "metadata": {
        "id": "6ZrC77hKcS-k",
        "outputId": "e1ef027f-d891-4a8d-bbf6-162643e01dcc",
        "colab": {
          "base_uri": "https://localhost:8080/",
          "height": 238
        }
      },
      "source": [
        "toxcol_test = list(test_labelsdf.columns[1:])\n",
        "print(toxcol_test)\n",
        "istoxic_test = [-1 for i in range(len(test_labelsdf))]\n",
        "for i in tqdm(range(len(test_labelsdf))):\n",
        "  for col in toxcol_test:\n",
        "    if test_labelsdf[col][i] == 0 and istoxic_test[i] != 1:\n",
        "      istoxic_test[i] = 0\n",
        "    if test_labelsdf[col][i] == 1:\n",
        "      istoxic_test[i] = 1\n",
        "testdf['istoxic'] = istoxic_test\n",
        "testdf.head()"
      ],
      "execution_count": 7,
      "outputs": [
        {
          "output_type": "stream",
          "text": [
            "  1%|          | 1204/153164 [00:00<00:12, 12033.61it/s]"
          ],
          "name": "stderr"
        },
        {
          "output_type": "stream",
          "text": [
            "['toxic', 'severe_toxic', 'obscene', 'threat', 'insult', 'identity_hate']\n"
          ],
          "name": "stdout"
        },
        {
          "output_type": "stream",
          "text": [
            "100%|██████████| 153164/153164 [00:12<00:00, 12485.06it/s]\n"
          ],
          "name": "stderr"
        },
        {
          "output_type": "execute_result",
          "data": {
            "text/html": [
              "<div>\n",
              "<style scoped>\n",
              "    .dataframe tbody tr th:only-of-type {\n",
              "        vertical-align: middle;\n",
              "    }\n",
              "\n",
              "    .dataframe tbody tr th {\n",
              "        vertical-align: top;\n",
              "    }\n",
              "\n",
              "    .dataframe thead th {\n",
              "        text-align: right;\n",
              "    }\n",
              "</style>\n",
              "<table border=\"1\" class=\"dataframe\">\n",
              "  <thead>\n",
              "    <tr style=\"text-align: right;\">\n",
              "      <th></th>\n",
              "      <th>id</th>\n",
              "      <th>comment_text</th>\n",
              "      <th>istoxic</th>\n",
              "    </tr>\n",
              "  </thead>\n",
              "  <tbody>\n",
              "    <tr>\n",
              "      <th>0</th>\n",
              "      <td>00001cee341fdb12</td>\n",
              "      <td>Yo bitch Ja Rule is more succesful then you'll...</td>\n",
              "      <td>-1</td>\n",
              "    </tr>\n",
              "    <tr>\n",
              "      <th>1</th>\n",
              "      <td>0000247867823ef7</td>\n",
              "      <td>== From RfC == \\n\\n The title is fine as it is...</td>\n",
              "      <td>-1</td>\n",
              "    </tr>\n",
              "    <tr>\n",
              "      <th>2</th>\n",
              "      <td>00013b17ad220c46</td>\n",
              "      <td>\" \\n\\n == Sources == \\n\\n * Zawe Ashton on Lap...</td>\n",
              "      <td>-1</td>\n",
              "    </tr>\n",
              "    <tr>\n",
              "      <th>3</th>\n",
              "      <td>00017563c3f7919a</td>\n",
              "      <td>:If you have a look back at the source, the in...</td>\n",
              "      <td>-1</td>\n",
              "    </tr>\n",
              "    <tr>\n",
              "      <th>4</th>\n",
              "      <td>00017695ad8997eb</td>\n",
              "      <td>I don't anonymously edit articles at all.</td>\n",
              "      <td>-1</td>\n",
              "    </tr>\n",
              "  </tbody>\n",
              "</table>\n",
              "</div>"
            ],
            "text/plain": [
              "                 id                                       comment_text  istoxic\n",
              "0  00001cee341fdb12  Yo bitch Ja Rule is more succesful then you'll...       -1\n",
              "1  0000247867823ef7  == From RfC == \\n\\n The title is fine as it is...       -1\n",
              "2  00013b17ad220c46  \" \\n\\n == Sources == \\n\\n * Zawe Ashton on Lap...       -1\n",
              "3  00017563c3f7919a  :If you have a look back at the source, the in...       -1\n",
              "4  00017695ad8997eb          I don't anonymously edit articles at all.       -1"
            ]
          },
          "metadata": {
            "tags": []
          },
          "execution_count": 7
        }
      ]
    },
    {
      "cell_type": "code",
      "metadata": {
        "id": "tLsWNF_zGd4G",
        "outputId": "4162b634-aca9-4c1b-d5bf-ac0564ec9ddc",
        "colab": {
          "base_uri": "https://localhost:8080/",
          "height": 85
        }
      },
      "source": [
        "testdf['istoxic'].value_counts()"
      ],
      "execution_count": 8,
      "outputs": [
        {
          "output_type": "execute_result",
          "data": {
            "text/plain": [
              "-1    89186\n",
              " 0    57735\n",
              " 1     6243\n",
              "Name: istoxic, dtype: int64"
            ]
          },
          "metadata": {
            "tags": []
          },
          "execution_count": 8
        }
      ]
    },
    {
      "cell_type": "code",
      "metadata": {
        "id": "eYCA_VMRGRze",
        "outputId": "ebfb5655-a4f1-4f75-8c69-a7fb48bfa8c1",
        "colab": {
          "base_uri": "https://localhost:8080/",
          "height": 204
        }
      },
      "source": [
        "testdf_clean = testdf.loc[testdf['istoxic'] != -1]\n",
        "testdf_clean.head()"
      ],
      "execution_count": 9,
      "outputs": [
        {
          "output_type": "execute_result",
          "data": {
            "text/html": [
              "<div>\n",
              "<style scoped>\n",
              "    .dataframe tbody tr th:only-of-type {\n",
              "        vertical-align: middle;\n",
              "    }\n",
              "\n",
              "    .dataframe tbody tr th {\n",
              "        vertical-align: top;\n",
              "    }\n",
              "\n",
              "    .dataframe thead th {\n",
              "        text-align: right;\n",
              "    }\n",
              "</style>\n",
              "<table border=\"1\" class=\"dataframe\">\n",
              "  <thead>\n",
              "    <tr style=\"text-align: right;\">\n",
              "      <th></th>\n",
              "      <th>id</th>\n",
              "      <th>comment_text</th>\n",
              "      <th>istoxic</th>\n",
              "    </tr>\n",
              "  </thead>\n",
              "  <tbody>\n",
              "    <tr>\n",
              "      <th>5</th>\n",
              "      <td>0001ea8717f6de06</td>\n",
              "      <td>Thank you for understanding. I think very high...</td>\n",
              "      <td>0</td>\n",
              "    </tr>\n",
              "    <tr>\n",
              "      <th>7</th>\n",
              "      <td>000247e83dcc1211</td>\n",
              "      <td>:Dear god this site is horrible.</td>\n",
              "      <td>0</td>\n",
              "    </tr>\n",
              "    <tr>\n",
              "      <th>11</th>\n",
              "      <td>0002f87b16116a7f</td>\n",
              "      <td>\"::: Somebody will invariably try to add Relig...</td>\n",
              "      <td>0</td>\n",
              "    </tr>\n",
              "    <tr>\n",
              "      <th>13</th>\n",
              "      <td>0003e1cccfd5a40a</td>\n",
              "      <td>\" \\n\\n It says it right there that it IS a typ...</td>\n",
              "      <td>0</td>\n",
              "    </tr>\n",
              "    <tr>\n",
              "      <th>14</th>\n",
              "      <td>00059ace3e3e9a53</td>\n",
              "      <td>\" \\n\\n == Before adding a new product to the l...</td>\n",
              "      <td>0</td>\n",
              "    </tr>\n",
              "  </tbody>\n",
              "</table>\n",
              "</div>"
            ],
            "text/plain": [
              "                  id  ... istoxic\n",
              "5   0001ea8717f6de06  ...       0\n",
              "7   000247e83dcc1211  ...       0\n",
              "11  0002f87b16116a7f  ...       0\n",
              "13  0003e1cccfd5a40a  ...       0\n",
              "14  00059ace3e3e9a53  ...       0\n",
              "\n",
              "[5 rows x 3 columns]"
            ]
          },
          "metadata": {
            "tags": []
          },
          "execution_count": 9
        }
      ]
    },
    {
      "cell_type": "code",
      "metadata": {
        "id": "QF5dqnE5H2s6"
      },
      "source": [
        "X_train, X_valid, Y_train, Y_valid = train_test_split(traindf.iloc[:,1], traindf['istoxic'], test_size = 0.2, random_state = 0)"
      ],
      "execution_count": 10,
      "outputs": []
    },
    {
      "cell_type": "code",
      "metadata": {
        "id": "o61kFRBKJ45z"
      },
      "source": [
        "MAX_FEATURES = 20000\n",
        "MAXLEN = 100\n",
        "\n",
        "tokenizer = text.Tokenizer(num_words = MAX_FEATURES)\n",
        "tokenizer.fit_on_texts(X_train)\n",
        "X_train = tokenizer.texts_to_sequences(X_train)\n",
        "X_valid = tokenizer.texts_to_sequences(X_valid)\n",
        "X_train = sequence.pad_sequences(X_train, maxlen = MAXLEN)\n",
        "X_valid = sequence.pad_sequences(X_valid, maxlen = MAXLEN)"
      ],
      "execution_count": 11,
      "outputs": []
    },
    {
      "cell_type": "code",
      "metadata": {
        "id": "9J479vCXOsR7",
        "outputId": "20b3e57e-12b3-4711-8b47-15f2b186624c",
        "colab": {
          "base_uri": "https://localhost:8080/",
          "height": 425
        }
      },
      "source": [
        "# callbacks\n",
        "callback = EarlyStopping(monitor='val_loss', patience=3, verbose=0)\n",
        "\n",
        "# Construct Model\n",
        "with tpu_strategy.scope():\n",
        "  model = Sequential()\n",
        "  model.add(Embedding(MAX_FEATURES, 100))\n",
        "  model.add(Bidirectional(LSTM(128, return_sequences=True)))\n",
        "  model.add(Dropout(0.2))\n",
        "  model.add(LSTM(128))\n",
        "  model.add(Dropout(0.2))\n",
        "  model.add(Dense(128, activation='relu'))\n",
        "  model.add(Dropout(0.2))\n",
        "  model.add(Dense(1, activation='sigmoid'))\n",
        "\n",
        "  model.compile(loss='binary_crossentropy', optimizer='adam', metrics=['accuracy'])\n",
        "model.summary()"
      ],
      "execution_count": 13,
      "outputs": [
        {
          "output_type": "stream",
          "text": [
            "Model: \"sequential_1\"\n",
            "_________________________________________________________________\n",
            "Layer (type)                 Output Shape              Param #   \n",
            "=================================================================\n",
            "embedding_1 (Embedding)      (None, None, 100)         2000000   \n",
            "_________________________________________________________________\n",
            "bidirectional_1 (Bidirection (None, None, 256)         234496    \n",
            "_________________________________________________________________\n",
            "dropout_3 (Dropout)          (None, None, 256)         0         \n",
            "_________________________________________________________________\n",
            "lstm_3 (LSTM)                (None, 128)               197120    \n",
            "_________________________________________________________________\n",
            "dropout_4 (Dropout)          (None, 128)               0         \n",
            "_________________________________________________________________\n",
            "dense_2 (Dense)              (None, 128)               16512     \n",
            "_________________________________________________________________\n",
            "dropout_5 (Dropout)          (None, 128)               0         \n",
            "_________________________________________________________________\n",
            "dense_3 (Dense)              (None, 1)                 129       \n",
            "=================================================================\n",
            "Total params: 2,448,257\n",
            "Trainable params: 2,448,257\n",
            "Non-trainable params: 0\n",
            "_________________________________________________________________\n"
          ],
          "name": "stdout"
        }
      ]
    },
    {
      "cell_type": "code",
      "metadata": {
        "id": "pV7mklBNQeCo",
        "outputId": "4bbf56e7-9492-4dbd-d722-b9fb6160e8bf",
        "colab": {
          "base_uri": "https://localhost:8080/",
          "height": 377
        }
      },
      "source": [
        "BATCH_SIZE = 32\n",
        "EPOCHS = 5\n",
        "\n",
        "history = model.fit(X_train, Y_train, batch_size=BATCH_SIZE, epochs = EPOCHS, verbose = 1, validation_data=(X_valid, Y_valid))"
      ],
      "execution_count": 14,
      "outputs": [
        {
          "output_type": "stream",
          "text": [
            "Epoch 1/5\n",
            "WARNING:tensorflow:From /usr/local/lib/python3.6/dist-packages/tensorflow/python/data/ops/multi_device_iterator_ops.py:601: get_next_as_optional (from tensorflow.python.data.ops.iterator_ops) is deprecated and will be removed in a future version.\n",
            "Instructions for updating:\n",
            "Use `tf.data.Iterator.get_next_as_optional()` instead.\n"
          ],
          "name": "stdout"
        },
        {
          "output_type": "stream",
          "text": [
            "WARNING:tensorflow:From /usr/local/lib/python3.6/dist-packages/tensorflow/python/data/ops/multi_device_iterator_ops.py:601: get_next_as_optional (from tensorflow.python.data.ops.iterator_ops) is deprecated and will be removed in a future version.\n",
            "Instructions for updating:\n",
            "Use `tf.data.Iterator.get_next_as_optional()` instead.\n"
          ],
          "name": "stderr"
        },
        {
          "output_type": "stream",
          "text": [
            "\r   1/3990 [..............................] - ETA: 2:14:45 - loss: 0.6932 - accuracy: 0.6250WARNING:tensorflow:Callbacks method `on_train_batch_end` is slow compared to the batch time (batch time: 0.0033s vs `on_train_batch_end` time: 0.0251s). Check your callbacks.\n"
          ],
          "name": "stdout"
        },
        {
          "output_type": "stream",
          "text": [
            "WARNING:tensorflow:Callbacks method `on_train_batch_end` is slow compared to the batch time (batch time: 0.0033s vs `on_train_batch_end` time: 0.0251s). Check your callbacks.\n"
          ],
          "name": "stderr"
        },
        {
          "output_type": "stream",
          "text": [
            "3990/3990 [==============================] - ETA: 0s - loss: 0.1398 - accuracy: 0.9521WARNING:tensorflow:Callbacks method `on_test_batch_end` is slow compared to the batch time (batch time: 0.0016s vs `on_test_batch_end` time: 0.0119s). Check your callbacks.\n"
          ],
          "name": "stdout"
        },
        {
          "output_type": "stream",
          "text": [
            "WARNING:tensorflow:Callbacks method `on_test_batch_end` is slow compared to the batch time (batch time: 0.0016s vs `on_test_batch_end` time: 0.0119s). Check your callbacks.\n"
          ],
          "name": "stderr"
        },
        {
          "output_type": "stream",
          "text": [
            "3990/3990 [==============================] - 125s 31ms/step - loss: 0.1398 - accuracy: 0.9521 - val_loss: 0.1095 - val_accuracy: 0.9607\n",
            "Epoch 2/5\n",
            "3990/3990 [==============================] - 119s 30ms/step - loss: 0.0951 - accuracy: 0.9654 - val_loss: 0.1045 - val_accuracy: 0.9634\n",
            "Epoch 3/5\n",
            "3990/3990 [==============================] - 119s 30ms/step - loss: 0.0780 - accuracy: 0.9705 - val_loss: 0.1233 - val_accuracy: 0.9629\n",
            "Epoch 4/5\n",
            "3990/3990 [==============================] - 121s 30ms/step - loss: 0.0625 - accuracy: 0.9764 - val_loss: 0.1382 - val_accuracy: 0.9606\n",
            "Epoch 5/5\n",
            "3990/3990 [==============================] - 120s 30ms/step - loss: 0.0466 - accuracy: 0.9829 - val_loss: 0.1421 - val_accuracy: 0.9576\n"
          ],
          "name": "stdout"
        }
      ]
    },
    {
      "cell_type": "code",
      "metadata": {
        "id": "P5SEIcFlUb_p",
        "outputId": "4809a5d6-3436-465f-e8c4-b091a82021d1",
        "colab": {
          "base_uri": "https://localhost:8080/",
          "height": 887
        }
      },
      "source": [
        "import matplotlib.pyplot as plt\n",
        "# plt.style.use(['dark_background'])\n",
        "plt.style.use(['classic'])\n",
        "\n",
        "acc = history.history['accuracy']\n",
        "loss = history.history['loss']\n",
        "\n",
        "epochs = range(len(acc))\n",
        "\n",
        "plt.plot(epochs, acc, 'r', label='Training Accuracy')\n",
        "plt.plot(epochs, history.history['val_accuracy'], 'c', label='Validation Accuracy')\n",
        "plt.title('Training Accuracy')\n",
        "plt.legend()\n",
        "\n",
        "plt.figure()\n",
        "\n",
        "plt.plot(epochs, loss, 'r', label='Training Loss')\n",
        "plt.plot(epochs, history.history['val_loss'], 'c', label='Validation Loss')\n",
        "plt.title('Training Loss')\n",
        "plt.legend()\n",
        "\n",
        "plt.show()"
      ],
      "execution_count": 73,
      "outputs": [
        {
          "output_type": "display_data",
          "data": {
            "image/png": "[encoded data removed]",
            "text/plain": [
              "<Figure size 640x480 with 1 Axes>"
            ]
          },
          "metadata": {
            "tags": []
          }
        },
        {
          "output_type": "display_data",
          "data": {
            "image/png": "[encoded data removed]",
            "text/plain": [
              "<Figure size 640x480 with 1 Axes>"
            ]
          },
          "metadata": {
            "tags": []
          }
        }
      ]
    },
    {
      "cell_type": "code",
      "metadata": {
        "id": "RvesjasKVVtF"
      },
      "source": [
        "# Predictions\n",
        "\n",
        "X_test = testdf_clean.iloc[:,1]\n",
        "Y_test = testdf_clean['istoxic']\n",
        "X_test = tokenizer.texts_to_sequences(X_test)\n",
        "X_test = sequence.pad_sequences(X_test, maxlen = MAXLEN)\n"
      ],
      "execution_count": 25,
      "outputs": []
    },
    {
      "cell_type": "code",
      "metadata": {
        "id": "q-J7Zg0NYwpb",
        "outputId": "49b55635-b542-4de0-84f6-db3ab384b315",
        "colab": {
          "base_uri": "https://localhost:8080/",
          "height": 139
        }
      },
      "source": [
        "# Predict and\n",
        "Y_pred = model.predict_classes(X_test, verbose=1)\n",
        "Y_pred_prob = model.predict(X_test, verbose=1)\n",
        "conf = confusion_matrix(y_true=Y_test, y_pred=Y_pred)"
      ],
      "execution_count": 30,
      "outputs": [
        {
          "output_type": "stream",
          "text": [
            "\r   1/2000 [..............................] - ETA: 0sWARNING:tensorflow:Callbacks method `on_predict_batch_end` is slow compared to the batch time (batch time: 0.0014s vs `on_predict_batch_end` time: 0.0107s). Check your callbacks.\n"
          ],
          "name": "stdout"
        },
        {
          "output_type": "stream",
          "text": [
            "WARNING:tensorflow:Callbacks method `on_predict_batch_end` is slow compared to the batch time (batch time: 0.0014s vs `on_predict_batch_end` time: 0.0107s). Check your callbacks.\n"
          ],
          "name": "stderr"
        },
        {
          "output_type": "stream",
          "text": [
            "2000/2000 [==============================] - 18s 9ms/step\n",
            "   1/2000 [..............................] - ETA: 0sWARNING:tensorflow:Callbacks method `on_predict_batch_end` is slow compared to the batch time (batch time: 0.0014s vs `on_predict_batch_end` time: 0.0087s). Check your callbacks.\n"
          ],
          "name": "stdout"
        },
        {
          "output_type": "stream",
          "text": [
            "WARNING:tensorflow:Callbacks method `on_predict_batch_end` is slow compared to the batch time (batch time: 0.0014s vs `on_predict_batch_end` time: 0.0087s). Check your callbacks.\n"
          ],
          "name": "stderr"
        },
        {
          "output_type": "stream",
          "text": [
            "2000/2000 [==============================] - 18s 9ms/step\n"
          ],
          "name": "stdout"
        }
      ]
    },
    {
      "cell_type": "code",
      "metadata": {
        "id": "3mEpUbX7cQrV",
        "outputId": "f2f08694-96fd-4b9e-e7cb-c38b247c9152",
        "colab": {
          "base_uri": "https://localhost:8080/",
          "height": 517
        }
      },
      "source": [
        "# Build confusion matrix\n",
        "\n",
        "import itertools\n",
        "\n",
        "conf_acc = np.trace(conf) / float(np.sum(conf))\n",
        "conf_misclass = 1-conf_acc\n",
        "\n",
        "plt.figure(figsize=(8, 6))\n",
        "plt.imshow(conf, interpolation='nearest', cmap='Blues')\n",
        "plt.title('Confusion Matrix')\n",
        "plt.colorbar()\n",
        "conf = conf.astype('float') / conf.sum(axis=1)[:, np.newaxis]\n",
        "thresh = conf.max()/1.5\n",
        "\n",
        "for i, j in itertools.product(range(conf.shape[0]), range(conf.shape[1])):\n",
        "    plt.text(j, i, \"{:0.4f}\".format(conf[i, j]),\n",
        "              horizontalalignment=\"center\",\n",
        "              color=\"white\" if conf[i, j] > thresh else \"black\")\n",
        "    \n",
        "plt.tight_layout()\n",
        "plt.ylabel('True label')\n",
        "plt.xlabel('Predicted label\\naccuracy={:0.4f}; misclass={:0.4f}'.format(conf_acc, conf_misclass))\n",
        "plt.show()"
      ],
      "execution_count": 75,
      "outputs": [
        {
          "output_type": "display_data",
          "data": {
            "image/png": "[encoded data removed]",
            "text/plain": [
              "<Figure size 640x480 with 2 Axes>"
            ]
          },
          "metadata": {
            "tags": []
          }
        }
      ]
    },
    {
      "cell_type": "code",
      "metadata": {
        "id": "guPJUhvLQGTI",
        "outputId": "67d43b07-6b1a-4e26-c66e-e9d8d9251b3b",
        "colab": {
          "base_uri": "https://localhost:8080/",
          "height": 470
        }
      },
      "source": [
        "# ROC/AUC\n",
        "fpr, tpr, threshold = roc_curve(Y_test, Y_pred_prob)\n",
        "roc_auc = auc(fpr, tpr)\n",
        "\n",
        "optimal_idx = np.argmin(np.sqrt(np.square(1-tpr)+np.square(fpr)))\n",
        "# print(optimal_idx)\n",
        "# print(threshold[optimal_idx])\n",
        "\n",
        "\n",
        "plt.figure()\n",
        "plt.title('ROC + AUC')\n",
        "plt.plot(fpr, tpr, 'b', label='AUC = %0.2f' %roc_auc)\n",
        "plt.plot([0,1],[0,1], 'r--')\n",
        "plt.scatter(fpr[4029], tpr[4029], s=50, c='r', label='0.5 threshold')\n",
        "plt.scatter(fpr[optimal_idx], tpr[optimal_idx], s=50, c='c', label='optimal thresh\\n%0.2f'%threshold[optimal_idx])\n",
        "plt.xlim([0,1])\n",
        "plt.ylim([0,1])\n",
        "plt.ylabel('True Positive Rate')\n",
        "plt.xlabel('False Positive Rate')\n",
        "plt.legend(loc='lower right')\n",
        "\n",
        "plt.show()"
      ],
      "execution_count": 78,
      "outputs": [
        {
          "output_type": "display_data",
          "data": {
            "image/png": "[encoded data removed]",
            "text/plain": [
              "<Figure size 640x480 with 1 Axes>"
            ]
          },
          "metadata": {
            "tags": []
          }
        }
      ]
    },
    {
      "cell_type": "code",
      "metadata": {
        "id": "M1AFfO_6ncid"
      },
      "source": [
        "# Save model\n",
        "import json\n",
        "\n",
        "model.save(data_dir+'jigsawmodel_2.h5')\n",
        "token_json = tokenizer.to_json()\n",
        "with open(data_dir+'token_json.txt', 'w') as outfile:\n",
        "  json.dump(token_json, outfile)"
      ],
      "execution_count": null,
      "outputs": []
    },
    {
      "cell_type": "code",
      "metadata": {
        "id": "vrRleRkioSiP"
      },
      "source": [
        "df_ffxiv = pd.read_csv(data_dir+'ffxiv2020-07-30to2020-08-06.csv')\n",
        "df_wow = pd.read_csv(data_dir+'wow2020-07-30to2020-08-06.csv')\n",
        "df_lol = pd.read_csv(data_dir+'leagueoflegends2020-07-30to2020-08-06.csv')"
      ],
      "execution_count": null,
      "outputs": []
    },
    {
      "cell_type": "code",
      "metadata": {
        "id": "1a9WKPwAHJJk"
      },
      "source": [
        "df_wow['text'].fillna(' ', inplace=True) # Wow and lol dataset contain nan's, replace\n",
        "df_lol['text'].fillna(' ', inplace=True)"
      ],
      "execution_count": null,
      "outputs": []
    },
    {
      "cell_type": "code",
      "metadata": {
        "id": "YxkclcTFOBA_"
      },
      "source": [
        "X_test_ff = df_ffxiv.iloc[:,1]\n",
        "X_test_wow = df_wow.iloc[:,1]\n",
        "X_test_lol = df_lol.iloc[:,1]"
      ],
      "execution_count": null,
      "outputs": []
    },
    {
      "cell_type": "code",
      "metadata": {
        "id": "MdxyVKo5Oe-Y"
      },
      "source": [
        "X_test_ff = tokenizer.texts_to_sequences(X_test_ff)\n",
        "X_test_ff = sequence.pad_sequences(X_test_ff, maxlen=MAXLEN)\n",
        "\n",
        "X_test_wow = tokenizer.texts_to_sequences(X_test_wow)\n",
        "X_test_wow = sequence.pad_sequences(X_test_wow, maxlen=MAXLEN)\n",
        "\n",
        "X_test_lol = tokenizer.texts_to_sequences(X_test_lol)\n",
        "X_test_lol = sequence.pad_sequences(X_test_lol, maxlen=MAXLEN)"
      ],
      "execution_count": null,
      "outputs": []
    },
    {
      "cell_type": "code",
      "metadata": {
        "id": "jI2ttHbpOxOX",
        "outputId": "fef96a55-6369-4cf4-f130-e3c54fe12d5e",
        "colab": {
          "base_uri": "https://localhost:8080/",
          "height": 190
        }
      },
      "source": [
        "Y_pred_ff = model.predict_classes(X_test_ff, verbose = 1)\n",
        "Y_pred_wow = model.predict_classes(X_test_wow, verbose = 1)\n",
        "Y_pred_lol = model.predict_classes(X_test_lol, verbose = 1)"
      ],
      "execution_count": null,
      "outputs": [
        {
          "output_type": "stream",
          "text": [
            "\r  1/827 [..............................] - ETA: 0sWARNING:tensorflow:Callbacks method `on_predict_batch_end` is slow compared to the batch time (batch time: 0.0017s vs `on_predict_batch_end` time: 0.0132s). Check your callbacks.\n"
          ],
          "name": "stdout"
        },
        {
          "output_type": "stream",
          "text": [
            "WARNING:tensorflow:Callbacks method `on_predict_batch_end` is slow compared to the batch time (batch time: 0.0017s vs `on_predict_batch_end` time: 0.0132s). Check your callbacks.\n"
          ],
          "name": "stderr"
        },
        {
          "output_type": "stream",
          "text": [
            "827/827 [==============================] - 8s 10ms/step\n",
            "   1/1367 [..............................] - ETA: 0sWARNING:tensorflow:Callbacks method `on_predict_batch_end` is slow compared to the batch time (batch time: 0.0015s vs `on_predict_batch_end` time: 0.0076s). Check your callbacks.\n"
          ],
          "name": "stdout"
        },
        {
          "output_type": "stream",
          "text": [
            "WARNING:tensorflow:Callbacks method `on_predict_batch_end` is slow compared to the batch time (batch time: 0.0015s vs `on_predict_batch_end` time: 0.0076s). Check your callbacks.\n"
          ],
          "name": "stderr"
        },
        {
          "output_type": "stream",
          "text": [
            "1367/1367 [==============================] - 14s 10ms/step\n",
            "   1/4038 [..............................] - ETA: 0sWARNING:tensorflow:Callbacks method `on_predict_batch_end` is slow compared to the batch time (batch time: 0.0015s vs `on_predict_batch_end` time: 0.0088s). Check your callbacks.\n"
          ],
          "name": "stdout"
        },
        {
          "output_type": "stream",
          "text": [
            "WARNING:tensorflow:Callbacks method `on_predict_batch_end` is slow compared to the batch time (batch time: 0.0015s vs `on_predict_batch_end` time: 0.0088s). Check your callbacks.\n"
          ],
          "name": "stderr"
        },
        {
          "output_type": "stream",
          "text": [
            "4038/4038 [==============================] - 42s 10ms/step\n"
          ],
          "name": "stdout"
        }
      ]
    },
    {
      "cell_type": "code",
      "metadata": {
        "id": "qLsOEwNkPSrJ"
      },
      "source": [
        "df_ffxiv[\"istoxic_pred\"] = Y_pred_ff\n",
        "df_wow[\"istoxic_pred\"] = Y_pred_wow\n",
        "df_lol[\"istoxic_pred\"] = Y_pred_lol"
      ],
      "execution_count": null,
      "outputs": []
    },
    {
      "cell_type": "code",
      "metadata": {
        "id": "CnccMPNZPz1-"
      },
      "source": [
        "# df_ffxiv[\"istoxic_pred\"].value_counts()\n",
        "# df_wow[\"istoxic_pred\"].value_counts()\n",
        "# df_lol[\"istoxic_pred\"].value_counts()\n",
        "\n",
        "ffxiv_toxiclevels = df_ffxiv['istoxic_pred'].value_counts()[1]/len(df_ffxiv)\n",
        "wow_toxiclevels = df_wow['istoxic_pred'].value_counts()[1]/len(df_wow)\n",
        "lol_toxiclevels = df_lol['istoxic_pred'].value_counts()[1]/len(df_lol)"
      ],
      "execution_count": null,
      "outputs": []
    },
    {
      "cell_type": "code",
      "metadata": {
        "id": "fTN_WKWIQTmU",
        "outputId": "356943fc-e9ba-4850-dd68-db46b95d2f74",
        "colab": {
          "base_uri": "https://localhost:8080/",
          "height": 102
        }
      },
      "source": [
        "print(\"Percentage of Comments that are Toxic in Subreddits\")\n",
        "print(\"=\"*50)\n",
        "print(\"FFXIV: \".ljust(10) + str(ffxiv_toxiclevels).ljust(25) + (\"%.4f%%\" % (ffxiv_toxiclevels*100)))\n",
        "print(\"WoW: \".ljust(10) + str(wow_toxiclevels).ljust(25) + (\"%.4f%%\" % (wow_toxiclevels*100)))\n",
        "print(\"LoL: \".ljust(10) + str(lol_toxiclevels).ljust(25) + (\"%.4f%%\" % (lol_toxiclevels*100)))"
      ],
      "execution_count": null,
      "outputs": [
        {
          "output_type": "stream",
          "text": [
            "Percentage of Comments that are Toxic in Subreddits\n",
            "==================================================\n",
            "FFXIV:    0.06179095446982302      6.1791%\n",
            "WoW:      0.0810062893081761       8.1006%\n",
            "LoL:      0.0982105540161917       9.8211%\n"
          ],
          "name": "stdout"
        }
      ]
    }
  ]
}