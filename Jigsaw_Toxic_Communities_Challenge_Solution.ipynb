{
  "nbformat": 4,
  "nbformat_minor": 0,
  "metadata": {
    "colab": {
      "name": "Jigsaw Toxic Communities Challenge Solution",
      "provenance": [],
      "collapsed_sections": [],
      "mount_file_id": "1zPTvobzH7VB8cEhajY8fp2CUZphyfOv1",
      "authorship_tag": "ABX9TyOJxm7V36oxGeC+kLVhZ5JI",
      "include_colab_link": true
    },
    "kernelspec": {
      "name": "python3",
      "display_name": "Python 3"
    },
    "accelerator": "TPU"
  },
  "cells": [
    {
      "cell_type": "markdown",
      "metadata": {
        "id": "view-in-github",
        "colab_type": "text"
      },
      "source": [
        "<a href=\"https://colab.research.google.com/github/yma3/Toxicity-In-Gaming-Communities/blob/master/Jigsaw_Toxic_Communities_Challenge_Solution.ipynb\" target=\"_parent\"><img src=\"https://colab.research.google.com/assets/colab-badge.svg\" alt=\"Open In Colab\"/></a>"
      ]
    },
    {
      "cell_type": "code",
      "metadata": {
        "id": "CbItWop9SHPi",
        "colab_type": "code",
        "colab": {
          "base_uri": "https://localhost:8080/",
          "height": 34
        },
        "outputId": "dcaa00f5-cbc3-4b41-ec1a-e3444ec5e8f7"
      },
      "source": [
        "from google.colab import drive\n",
        "import os\n",
        "import tensorflow as tf\n",
        "import numpy as np\n",
        "\n",
        "from keras.models import Model, Sequential\n",
        "from keras.layers import Dense, Embedding, Input\n",
        "from keras.layers import LSTM, Bidirectional, GlobalMaxPool1D, Dropout, GRU\n",
        "from keras.preprocessing import text, sequence\n",
        "from keras.callbacks import EarlyStopping, ModelCheckpoint\n",
        "from keras.optimizers import Adam\n",
        "\n",
        "from sklearn.model_selection import train_test_split\n",
        "from sklearn.metrics import confusion_matrix\n",
        "\n",
        "import pandas as pd\n",
        "from tqdm import tqdm\n",
        "print(tf.__version__)"
      ],
      "execution_count": 1,
      "outputs": [
        {
          "output_type": "stream",
          "text": [
            "2.3.0\n"
          ],
          "name": "stdout"
        }
      ]
    },
    {
      "cell_type": "code",
      "metadata": {
        "id": "-WTRPjEffyqe",
        "colab_type": "code",
        "colab": {
          "base_uri": "https://localhost:8080/",
          "height": 731
        },
        "outputId": "877897bb-a408-4768-e078-b2553a6d08d7"
      },
      "source": [
        "# TPU Connection\n",
        "try:\n",
        "  tpu = tf.distribute.cluster_resolver.TPUClusterResolver()  # TPU detection\n",
        "  print('Running on TPU ', tpu.cluster_spec().as_dict()['worker'])\n",
        "except ValueError:\n",
        "  raise BaseException('ERROR: Not connected to a TPU runtime; please see the previous cell in this notebook for instructions!')\n",
        "\n",
        "tf.config.experimental_connect_to_cluster(tpu)\n",
        "tf.tpu.experimental.initialize_tpu_system(tpu)\n",
        "tpu_strategy = tf.distribute.experimental.TPUStrategy(tpu)"
      ],
      "execution_count": 2,
      "outputs": [
        {
          "output_type": "stream",
          "text": [
            "Running on TPU  ['10.14.138.74:8470']\n",
            "INFO:tensorflow:Initializing the TPU system: grpc://10.14.138.74:8470\n"
          ],
          "name": "stdout"
        },
        {
          "output_type": "stream",
          "text": [
            "INFO:tensorflow:Initializing the TPU system: grpc://10.14.138.74:8470\n"
          ],
          "name": "stderr"
        },
        {
          "output_type": "stream",
          "text": [
            "INFO:tensorflow:Clearing out eager caches\n"
          ],
          "name": "stdout"
        },
        {
          "output_type": "stream",
          "text": [
            "INFO:tensorflow:Clearing out eager caches\n"
          ],
          "name": "stderr"
        },
        {
          "output_type": "stream",
          "text": [
            "INFO:tensorflow:Finished initializing TPU system.\n"
          ],
          "name": "stdout"
        },
        {
          "output_type": "stream",
          "text": [
            "INFO:tensorflow:Finished initializing TPU system.\n",
            "WARNING:absl:`tf.distribute.experimental.TPUStrategy` is deprecated, please use  the non experimental symbol `tf.distribute.TPUStrategy` instead.\n"
          ],
          "name": "stderr"
        },
        {
          "output_type": "stream",
          "text": [
            "INFO:tensorflow:Found TPU system:\n"
          ],
          "name": "stdout"
        },
        {
          "output_type": "stream",
          "text": [
            "INFO:tensorflow:Found TPU system:\n"
          ],
          "name": "stderr"
        },
        {
          "output_type": "stream",
          "text": [
            "INFO:tensorflow:*** Num TPU Cores: 8\n"
          ],
          "name": "stdout"
        },
        {
          "output_type": "stream",
          "text": [
            "INFO:tensorflow:*** Num TPU Cores: 8\n"
          ],
          "name": "stderr"
        },
        {
          "output_type": "stream",
          "text": [
            "INFO:tensorflow:*** Num TPU Workers: 1\n"
          ],
          "name": "stdout"
        },
        {
          "output_type": "stream",
          "text": [
            "INFO:tensorflow:*** Num TPU Workers: 1\n"
          ],
          "name": "stderr"
        },
        {
          "output_type": "stream",
          "text": [
            "INFO:tensorflow:*** Num TPU Cores Per Worker: 8\n"
          ],
          "name": "stdout"
        },
        {
          "output_type": "stream",
          "text": [
            "INFO:tensorflow:*** Num TPU Cores Per Worker: 8\n"
          ],
          "name": "stderr"
        },
        {
          "output_type": "stream",
          "text": [
            "INFO:tensorflow:*** Available Device: _DeviceAttributes(/job:localhost/replica:0/task:0/device:CPU:0, CPU, 0, 0)\n"
          ],
          "name": "stdout"
        },
        {
          "output_type": "stream",
          "text": [
            "INFO:tensorflow:*** Available Device: _DeviceAttributes(/job:localhost/replica:0/task:0/device:CPU:0, CPU, 0, 0)\n"
          ],
          "name": "stderr"
        },
        {
          "output_type": "stream",
          "text": [
            "INFO:tensorflow:*** Available Device: _DeviceAttributes(/job:localhost/replica:0/task:0/device:XLA_CPU:0, XLA_CPU, 0, 0)\n"
          ],
          "name": "stdout"
        },
        {
          "output_type": "stream",
          "text": [
            "INFO:tensorflow:*** Available Device: _DeviceAttributes(/job:localhost/replica:0/task:0/device:XLA_CPU:0, XLA_CPU, 0, 0)\n"
          ],
          "name": "stderr"
        },
        {
          "output_type": "stream",
          "text": [
            "INFO:tensorflow:*** Available Device: _DeviceAttributes(/job:worker/replica:0/task:0/device:CPU:0, CPU, 0, 0)\n"
          ],
          "name": "stdout"
        },
        {
          "output_type": "stream",
          "text": [
            "INFO:tensorflow:*** Available Device: _DeviceAttributes(/job:worker/replica:0/task:0/device:CPU:0, CPU, 0, 0)\n"
          ],
          "name": "stderr"
        },
        {
          "output_type": "stream",
          "text": [
            "INFO:tensorflow:*** Available Device: _DeviceAttributes(/job:worker/replica:0/task:0/device:TPU:0, TPU, 0, 0)\n"
          ],
          "name": "stdout"
        },
        {
          "output_type": "stream",
          "text": [
            "INFO:tensorflow:*** Available Device: _DeviceAttributes(/job:worker/replica:0/task:0/device:TPU:0, TPU, 0, 0)\n"
          ],
          "name": "stderr"
        },
        {
          "output_type": "stream",
          "text": [
            "INFO:tensorflow:*** Available Device: _DeviceAttributes(/job:worker/replica:0/task:0/device:TPU:1, TPU, 0, 0)\n"
          ],
          "name": "stdout"
        },
        {
          "output_type": "stream",
          "text": [
            "INFO:tensorflow:*** Available Device: _DeviceAttributes(/job:worker/replica:0/task:0/device:TPU:1, TPU, 0, 0)\n"
          ],
          "name": "stderr"
        },
        {
          "output_type": "stream",
          "text": [
            "INFO:tensorflow:*** Available Device: _DeviceAttributes(/job:worker/replica:0/task:0/device:TPU:2, TPU, 0, 0)\n"
          ],
          "name": "stdout"
        },
        {
          "output_type": "stream",
          "text": [
            "INFO:tensorflow:*** Available Device: _DeviceAttributes(/job:worker/replica:0/task:0/device:TPU:2, TPU, 0, 0)\n"
          ],
          "name": "stderr"
        },
        {
          "output_type": "stream",
          "text": [
            "INFO:tensorflow:*** Available Device: _DeviceAttributes(/job:worker/replica:0/task:0/device:TPU:3, TPU, 0, 0)\n"
          ],
          "name": "stdout"
        },
        {
          "output_type": "stream",
          "text": [
            "INFO:tensorflow:*** Available Device: _DeviceAttributes(/job:worker/replica:0/task:0/device:TPU:3, TPU, 0, 0)\n"
          ],
          "name": "stderr"
        },
        {
          "output_type": "stream",
          "text": [
            "INFO:tensorflow:*** Available Device: _DeviceAttributes(/job:worker/replica:0/task:0/device:TPU:4, TPU, 0, 0)\n"
          ],
          "name": "stdout"
        },
        {
          "output_type": "stream",
          "text": [
            "INFO:tensorflow:*** Available Device: _DeviceAttributes(/job:worker/replica:0/task:0/device:TPU:4, TPU, 0, 0)\n"
          ],
          "name": "stderr"
        },
        {
          "output_type": "stream",
          "text": [
            "INFO:tensorflow:*** Available Device: _DeviceAttributes(/job:worker/replica:0/task:0/device:TPU:5, TPU, 0, 0)\n"
          ],
          "name": "stdout"
        },
        {
          "output_type": "stream",
          "text": [
            "INFO:tensorflow:*** Available Device: _DeviceAttributes(/job:worker/replica:0/task:0/device:TPU:5, TPU, 0, 0)\n"
          ],
          "name": "stderr"
        },
        {
          "output_type": "stream",
          "text": [
            "INFO:tensorflow:*** Available Device: _DeviceAttributes(/job:worker/replica:0/task:0/device:TPU:6, TPU, 0, 0)\n"
          ],
          "name": "stdout"
        },
        {
          "output_type": "stream",
          "text": [
            "INFO:tensorflow:*** Available Device: _DeviceAttributes(/job:worker/replica:0/task:0/device:TPU:6, TPU, 0, 0)\n"
          ],
          "name": "stderr"
        },
        {
          "output_type": "stream",
          "text": [
            "INFO:tensorflow:*** Available Device: _DeviceAttributes(/job:worker/replica:0/task:0/device:TPU:7, TPU, 0, 0)\n"
          ],
          "name": "stdout"
        },
        {
          "output_type": "stream",
          "text": [
            "INFO:tensorflow:*** Available Device: _DeviceAttributes(/job:worker/replica:0/task:0/device:TPU:7, TPU, 0, 0)\n"
          ],
          "name": "stderr"
        },
        {
          "output_type": "stream",
          "text": [
            "INFO:tensorflow:*** Available Device: _DeviceAttributes(/job:worker/replica:0/task:0/device:TPU_SYSTEM:0, TPU_SYSTEM, 0, 0)\n"
          ],
          "name": "stdout"
        },
        {
          "output_type": "stream",
          "text": [
            "INFO:tensorflow:*** Available Device: _DeviceAttributes(/job:worker/replica:0/task:0/device:TPU_SYSTEM:0, TPU_SYSTEM, 0, 0)\n"
          ],
          "name": "stderr"
        },
        {
          "output_type": "stream",
          "text": [
            "INFO:tensorflow:*** Available Device: _DeviceAttributes(/job:worker/replica:0/task:0/device:XLA_CPU:0, XLA_CPU, 0, 0)\n"
          ],
          "name": "stdout"
        },
        {
          "output_type": "stream",
          "text": [
            "INFO:tensorflow:*** Available Device: _DeviceAttributes(/job:worker/replica:0/task:0/device:XLA_CPU:0, XLA_CPU, 0, 0)\n"
          ],
          "name": "stderr"
        }
      ]
    },
    {
      "cell_type": "code",
      "metadata": {
        "id": "84A8CqQKVQFZ",
        "colab_type": "code",
        "colab": {
          "base_uri": "https://localhost:8080/",
          "height": 136
        },
        "outputId": "7e9aea6e-32aa-4d6c-aad0-820e4567c162"
      },
      "source": [
        "# Mount google drive and select correct files\n",
        "\n",
        "# drive.mount('/content/drive/')\n",
        "data_dir = '/content/drive/My Drive/ColabData/ToxicComments/'\n",
        "# !ls /content/drive/My\\ Drive/ColabData/ToxicComments\n",
        "os.listdir(data_dir)"
      ],
      "execution_count": 3,
      "outputs": [
        {
          "output_type": "execute_result",
          "data": {
            "text/plain": [
              "['train.csv',\n",
              " 'test.csv',\n",
              " 'test_labels.csv',\n",
              " 'leagueoflegends2020-07-30to2020-08-06.csv',\n",
              " 'wow2020-07-30to2020-08-06.csv',\n",
              " 'ffxiv2020-07-30to2020-08-06.csv',\n",
              " 'jigsawmodel.h5']"
            ]
          },
          "metadata": {
            "tags": []
          },
          "execution_count": 3
        }
      ]
    },
    {
      "cell_type": "code",
      "metadata": {
        "id": "tJfFGQAyYhlX",
        "colab_type": "code",
        "colab": {}
      },
      "source": [
        "traindf = pd.read_csv(data_dir+'train.csv')\n",
        "testdf = pd.read_csv(data_dir+'test.csv')\n",
        "test_labelsdf = pd.read_csv(data_dir+'test_labels.csv')"
      ],
      "execution_count": 4,
      "outputs": []
    },
    {
      "cell_type": "code",
      "metadata": {
        "id": "Vzh4gXfFY9pI",
        "colab_type": "code",
        "colab": {}
      },
      "source": [
        "# print(traindf.isnull().any(), testdf.isnull().any())\n",
        "# traindf.head()\n",
        "# testdf.head()\n",
        "# test_labelsdf.head()\n",
        "# test_labelsdf['toxic'].value_counts()\n",
        "# traindf['toxic'].value_counts()\n"
      ],
      "execution_count": null,
      "outputs": []
    },
    {
      "cell_type": "code",
      "metadata": {
        "id": "-_d-YRrxaWWQ",
        "colab_type": "code",
        "colab": {
          "base_uri": "https://localhost:8080/",
          "height": 51
        },
        "outputId": "793c52aa-a707-4593-9cfd-3f6c949010ed"
      },
      "source": [
        "toxcols = list(traindf.columns[2:])\n",
        "print(toxcols)\n",
        "istoxic = [0 for i in range(len(traindf))]\n",
        "ids = []\n",
        "for i in tqdm(range(len(traindf))):\n",
        "  for col in toxcols:\n",
        "    if traindf[col][i] == 1:\n",
        "      istoxic[i] = 1\n",
        "traindf['istoxic'] = istoxic"
      ],
      "execution_count": 5,
      "outputs": [
        {
          "output_type": "stream",
          "text": [
            "  1%|          | 908/159571 [00:00<00:17, 9079.97it/s]"
          ],
          "name": "stderr"
        },
        {
          "output_type": "stream",
          "text": [
            "['toxic', 'severe_toxic', 'obscene', 'threat', 'insult', 'identity_hate']\n"
          ],
          "name": "stdout"
        },
        {
          "output_type": "stream",
          "text": [
            "100%|██████████| 159571/159571 [00:15<00:00, 10316.87it/s]\n"
          ],
          "name": "stderr"
        }
      ]
    },
    {
      "cell_type": "code",
      "metadata": {
        "id": "6ZrC77hKcS-k",
        "colab_type": "code",
        "colab": {
          "base_uri": "https://localhost:8080/",
          "height": 238
        },
        "outputId": "6740c788-490e-46f5-e644-da7027fff8fb"
      },
      "source": [
        "toxcol_test = list(test_labelsdf.columns[1:])\n",
        "print(toxcol_test)\n",
        "istoxic_test = [-1 for i in range(len(test_labelsdf))]\n",
        "for i in tqdm(range(len(test_labelsdf))):\n",
        "  for col in toxcol_test:\n",
        "    if test_labelsdf[col][i] == 0 and istoxic_test[i] != 1:\n",
        "      istoxic_test[i] = 0\n",
        "    if test_labelsdf[col][i] == 1:\n",
        "      istoxic_test[i] = 1\n",
        "testdf['istoxic'] = istoxic_test\n",
        "testdf.head()"
      ],
      "execution_count": 6,
      "outputs": [
        {
          "output_type": "stream",
          "text": [
            "  0%|          | 531/153164 [00:00<00:28, 5304.72it/s]"
          ],
          "name": "stderr"
        },
        {
          "output_type": "stream",
          "text": [
            "['toxic', 'severe_toxic', 'obscene', 'threat', 'insult', 'identity_hate']\n"
          ],
          "name": "stdout"
        },
        {
          "output_type": "stream",
          "text": [
            "100%|██████████| 153164/153164 [00:29<00:00, 5248.28it/s]\n"
          ],
          "name": "stderr"
        },
        {
          "output_type": "execute_result",
          "data": {
            "text/html": [
              "<div>\n",
              "<style scoped>\n",
              "    .dataframe tbody tr th:only-of-type {\n",
              "        vertical-align: middle;\n",
              "    }\n",
              "\n",
              "    .dataframe tbody tr th {\n",
              "        vertical-align: top;\n",
              "    }\n",
              "\n",
              "    .dataframe thead th {\n",
              "        text-align: right;\n",
              "    }\n",
              "</style>\n",
              "<table border=\"1\" class=\"dataframe\">\n",
              "  <thead>\n",
              "    <tr style=\"text-align: right;\">\n",
              "      <th></th>\n",
              "      <th>id</th>\n",
              "      <th>comment_text</th>\n",
              "      <th>istoxic</th>\n",
              "    </tr>\n",
              "  </thead>\n",
              "  <tbody>\n",
              "    <tr>\n",
              "      <th>0</th>\n",
              "      <td>00001cee341fdb12</td>\n",
              "      <td>Yo bitch Ja Rule is more succesful then you'll...</td>\n",
              "      <td>-1</td>\n",
              "    </tr>\n",
              "    <tr>\n",
              "      <th>1</th>\n",
              "      <td>0000247867823ef7</td>\n",
              "      <td>== From RfC == \\n\\n The title is fine as it is...</td>\n",
              "      <td>-1</td>\n",
              "    </tr>\n",
              "    <tr>\n",
              "      <th>2</th>\n",
              "      <td>00013b17ad220c46</td>\n",
              "      <td>\" \\n\\n == Sources == \\n\\n * Zawe Ashton on Lap...</td>\n",
              "      <td>-1</td>\n",
              "    </tr>\n",
              "    <tr>\n",
              "      <th>3</th>\n",
              "      <td>00017563c3f7919a</td>\n",
              "      <td>:If you have a look back at the source, the in...</td>\n",
              "      <td>-1</td>\n",
              "    </tr>\n",
              "    <tr>\n",
              "      <th>4</th>\n",
              "      <td>00017695ad8997eb</td>\n",
              "      <td>I don't anonymously edit articles at all.</td>\n",
              "      <td>-1</td>\n",
              "    </tr>\n",
              "  </tbody>\n",
              "</table>\n",
              "</div>"
            ],
            "text/plain": [
              "                 id                                       comment_text  istoxic\n",
              "0  00001cee341fdb12  Yo bitch Ja Rule is more succesful then you'll...       -1\n",
              "1  0000247867823ef7  == From RfC == \\n\\n The title is fine as it is...       -1\n",
              "2  00013b17ad220c46  \" \\n\\n == Sources == \\n\\n * Zawe Ashton on Lap...       -1\n",
              "3  00017563c3f7919a  :If you have a look back at the source, the in...       -1\n",
              "4  00017695ad8997eb          I don't anonymously edit articles at all.       -1"
            ]
          },
          "metadata": {
            "tags": []
          },
          "execution_count": 6
        }
      ]
    },
    {
      "cell_type": "code",
      "metadata": {
        "id": "tLsWNF_zGd4G",
        "colab_type": "code",
        "colab": {
          "base_uri": "https://localhost:8080/",
          "height": 85
        },
        "outputId": "96fa682c-2deb-4993-c787-86c022cbb4fb"
      },
      "source": [
        "testdf['istoxic'].value_counts()"
      ],
      "execution_count": 7,
      "outputs": [
        {
          "output_type": "execute_result",
          "data": {
            "text/plain": [
              "-1    89186\n",
              " 0    57735\n",
              " 1     6243\n",
              "Name: istoxic, dtype: int64"
            ]
          },
          "metadata": {
            "tags": []
          },
          "execution_count": 7
        }
      ]
    },
    {
      "cell_type": "code",
      "metadata": {
        "id": "eYCA_VMRGRze",
        "colab_type": "code",
        "colab": {
          "base_uri": "https://localhost:8080/",
          "height": 204
        },
        "outputId": "68395a69-0ae1-46d5-e49c-769137d8e4cb"
      },
      "source": [
        "testdf_clean = testdf.loc[testdf['istoxic'] != -1]\n",
        "testdf_clean.head()"
      ],
      "execution_count": 8,
      "outputs": [
        {
          "output_type": "execute_result",
          "data": {
            "text/html": [
              "<div>\n",
              "<style scoped>\n",
              "    .dataframe tbody tr th:only-of-type {\n",
              "        vertical-align: middle;\n",
              "    }\n",
              "\n",
              "    .dataframe tbody tr th {\n",
              "        vertical-align: top;\n",
              "    }\n",
              "\n",
              "    .dataframe thead th {\n",
              "        text-align: right;\n",
              "    }\n",
              "</style>\n",
              "<table border=\"1\" class=\"dataframe\">\n",
              "  <thead>\n",
              "    <tr style=\"text-align: right;\">\n",
              "      <th></th>\n",
              "      <th>id</th>\n",
              "      <th>comment_text</th>\n",
              "      <th>istoxic</th>\n",
              "    </tr>\n",
              "  </thead>\n",
              "  <tbody>\n",
              "    <tr>\n",
              "      <th>5</th>\n",
              "      <td>0001ea8717f6de06</td>\n",
              "      <td>Thank you for understanding. I think very high...</td>\n",
              "      <td>0</td>\n",
              "    </tr>\n",
              "    <tr>\n",
              "      <th>7</th>\n",
              "      <td>000247e83dcc1211</td>\n",
              "      <td>:Dear god this site is horrible.</td>\n",
              "      <td>0</td>\n",
              "    </tr>\n",
              "    <tr>\n",
              "      <th>11</th>\n",
              "      <td>0002f87b16116a7f</td>\n",
              "      <td>\"::: Somebody will invariably try to add Relig...</td>\n",
              "      <td>0</td>\n",
              "    </tr>\n",
              "    <tr>\n",
              "      <th>13</th>\n",
              "      <td>0003e1cccfd5a40a</td>\n",
              "      <td>\" \\n\\n It says it right there that it IS a typ...</td>\n",
              "      <td>0</td>\n",
              "    </tr>\n",
              "    <tr>\n",
              "      <th>14</th>\n",
              "      <td>00059ace3e3e9a53</td>\n",
              "      <td>\" \\n\\n == Before adding a new product to the l...</td>\n",
              "      <td>0</td>\n",
              "    </tr>\n",
              "  </tbody>\n",
              "</table>\n",
              "</div>"
            ],
            "text/plain": [
              "                  id  ... istoxic\n",
              "5   0001ea8717f6de06  ...       0\n",
              "7   000247e83dcc1211  ...       0\n",
              "11  0002f87b16116a7f  ...       0\n",
              "13  0003e1cccfd5a40a  ...       0\n",
              "14  00059ace3e3e9a53  ...       0\n",
              "\n",
              "[5 rows x 3 columns]"
            ]
          },
          "metadata": {
            "tags": []
          },
          "execution_count": 8
        }
      ]
    },
    {
      "cell_type": "code",
      "metadata": {
        "id": "QF5dqnE5H2s6",
        "colab_type": "code",
        "colab": {}
      },
      "source": [
        "X_train, X_valid, Y_train, Y_valid = train_test_split(traindf.iloc[:,1], traindf['istoxic'], test_size = 0.2, random_state = 0)"
      ],
      "execution_count": 9,
      "outputs": []
    },
    {
      "cell_type": "code",
      "metadata": {
        "id": "o61kFRBKJ45z",
        "colab_type": "code",
        "colab": {}
      },
      "source": [
        "MAX_FEATURES = 20000\n",
        "MAXLEN = 100\n",
        "\n",
        "tokenizer = text.Tokenizer(num_words = MAX_FEATURES)\n",
        "tokenizer.fit_on_texts(X_train)\n",
        "X_train = tokenizer.texts_to_sequences(X_train)\n",
        "X_valid = tokenizer.texts_to_sequences(X_valid)\n",
        "X_train = sequence.pad_sequences(X_train, maxlen = MAXLEN)\n",
        "X_valid = sequence.pad_sequences(X_valid, maxlen = MAXLEN)"
      ],
      "execution_count": 10,
      "outputs": []
    },
    {
      "cell_type": "code",
      "metadata": {
        "id": "9J479vCXOsR7",
        "colab_type": "code",
        "colab": {
          "base_uri": "https://localhost:8080/",
          "height": 425
        },
        "outputId": "afe0f36d-2c8d-41af-d56e-69b6c3c6f11f"
      },
      "source": [
        "# callbacks\n",
        "callback = EarlyStopping(monitor='val_loss', patience=3, verbose=0)\n",
        "\n",
        "# Construct Model\n",
        "with tpu_strategy.scope():\n",
        "  model = Sequential()\n",
        "  model.add(Embedding(MAX_FEATURES, 100))\n",
        "  model.add(Bidirectional(LSTM(128, return_sequences=True)))\n",
        "  model.add(Dropout(0.2))\n",
        "  model.add(LSTM(128))\n",
        "  model.add(Dropout(0.2))\n",
        "  model.add(Dense(128, activation='relu'))\n",
        "  model.add(Dropout(0.2))\n",
        "  model.add(Dense(1, activation='sigmoid'))\n",
        "\n",
        "  model.compile(loss='binary_crossentropy', optimizer='adam', metrics=['accuracy'])\n",
        "model.summary()"
      ],
      "execution_count": 11,
      "outputs": [
        {
          "output_type": "stream",
          "text": [
            "Model: \"sequential\"\n",
            "_________________________________________________________________\n",
            "Layer (type)                 Output Shape              Param #   \n",
            "=================================================================\n",
            "embedding (Embedding)        (None, None, 100)         2000000   \n",
            "_________________________________________________________________\n",
            "bidirectional (Bidirectional (None, None, 256)         234496    \n",
            "_________________________________________________________________\n",
            "dropout (Dropout)            (None, None, 256)         0         \n",
            "_________________________________________________________________\n",
            "lstm_1 (LSTM)                (None, 128)               197120    \n",
            "_________________________________________________________________\n",
            "dropout_1 (Dropout)          (None, 128)               0         \n",
            "_________________________________________________________________\n",
            "dense (Dense)                (None, 128)               16512     \n",
            "_________________________________________________________________\n",
            "dropout_2 (Dropout)          (None, 128)               0         \n",
            "_________________________________________________________________\n",
            "dense_1 (Dense)              (None, 1)                 129       \n",
            "=================================================================\n",
            "Total params: 2,448,257\n",
            "Trainable params: 2,448,257\n",
            "Non-trainable params: 0\n",
            "_________________________________________________________________\n"
          ],
          "name": "stdout"
        }
      ]
    },
    {
      "cell_type": "code",
      "metadata": {
        "id": "pV7mklBNQeCo",
        "colab_type": "code",
        "colab": {
          "base_uri": "https://localhost:8080/",
          "height": 377
        },
        "outputId": "d5a35065-81c2-46d4-8ab8-ef0b4ddc92b1"
      },
      "source": [
        "BATCH_SIZE = 32\n",
        "EPOCHS = 5\n",
        "\n",
        "history = model.fit(X_train, Y_train, batch_size=BATCH_SIZE, epochs = EPOCHS, verbose = 1, validation_data=(X_valid, Y_valid))"
      ],
      "execution_count": 12,
      "outputs": [
        {
          "output_type": "stream",
          "text": [
            "Epoch 1/5\n",
            "WARNING:tensorflow:From /usr/local/lib/python3.6/dist-packages/tensorflow/python/data/ops/multi_device_iterator_ops.py:601: get_next_as_optional (from tensorflow.python.data.ops.iterator_ops) is deprecated and will be removed in a future version.\n",
            "Instructions for updating:\n",
            "Use `tf.data.Iterator.get_next_as_optional()` instead.\n"
          ],
          "name": "stdout"
        },
        {
          "output_type": "stream",
          "text": [
            "WARNING:tensorflow:From /usr/local/lib/python3.6/dist-packages/tensorflow/python/data/ops/multi_device_iterator_ops.py:601: get_next_as_optional (from tensorflow.python.data.ops.iterator_ops) is deprecated and will be removed in a future version.\n",
            "Instructions for updating:\n",
            "Use `tf.data.Iterator.get_next_as_optional()` instead.\n"
          ],
          "name": "stderr"
        },
        {
          "output_type": "stream",
          "text": [
            "\r   1/3990 [..............................] - ETA: 2:11:40 - loss: 0.6932 - accuracy: 0.4375WARNING:tensorflow:Callbacks method `on_train_batch_end` is slow compared to the batch time (batch time: 0.0040s vs `on_train_batch_end` time: 0.0257s). Check your callbacks.\n"
          ],
          "name": "stdout"
        },
        {
          "output_type": "stream",
          "text": [
            "WARNING:tensorflow:Callbacks method `on_train_batch_end` is slow compared to the batch time (batch time: 0.0040s vs `on_train_batch_end` time: 0.0257s). Check your callbacks.\n"
          ],
          "name": "stderr"
        },
        {
          "output_type": "stream",
          "text": [
            "3990/3990 [==============================] - ETA: 0s - loss: 0.1380 - accuracy: 0.9532WARNING:tensorflow:Callbacks method `on_test_batch_end` is slow compared to the batch time (batch time: 0.0020s vs `on_test_batch_end` time: 0.0149s). Check your callbacks.\n"
          ],
          "name": "stdout"
        },
        {
          "output_type": "stream",
          "text": [
            "WARNING:tensorflow:Callbacks method `on_test_batch_end` is slow compared to the batch time (batch time: 0.0020s vs `on_test_batch_end` time: 0.0149s). Check your callbacks.\n"
          ],
          "name": "stderr"
        },
        {
          "output_type": "stream",
          "text": [
            "3990/3990 [==============================] - 126s 32ms/step - loss: 0.1380 - accuracy: 0.9532 - val_loss: 0.1051 - val_accuracy: 0.9629\n",
            "Epoch 2/5\n",
            "3990/3990 [==============================] - 121s 30ms/step - loss: 0.0928 - accuracy: 0.9662 - val_loss: 0.1071 - val_accuracy: 0.9638\n",
            "Epoch 3/5\n",
            "3990/3990 [==============================] - 123s 31ms/step - loss: 0.0734 - accuracy: 0.9730 - val_loss: 0.1146 - val_accuracy: 0.9614\n",
            "Epoch 4/5\n",
            "3990/3990 [==============================] - 124s 31ms/step - loss: 0.0569 - accuracy: 0.9790 - val_loss: 0.1388 - val_accuracy: 0.9602\n",
            "Epoch 5/5\n",
            "3990/3990 [==============================] - 122s 31ms/step - loss: 0.0417 - accuracy: 0.9843 - val_loss: 0.1627 - val_accuracy: 0.9554\n"
          ],
          "name": "stdout"
        }
      ]
    },
    {
      "cell_type": "code",
      "metadata": {
        "id": "P5SEIcFlUb_p",
        "colab_type": "code",
        "colab": {
          "base_uri": "https://localhost:8080/",
          "height": 545
        },
        "outputId": "8aaf0623-6810-447c-cd3a-2e5806de01bb"
      },
      "source": [
        "import matplotlib.pyplot as plt\n",
        "plt.style.use(['dark_background'])\n",
        "\n",
        "\n",
        "acc = history.history['accuracy']\n",
        "loss = history.history['loss']\n",
        "\n",
        "epochs = range(len(acc))\n",
        "\n",
        "plt.plot(epochs, acc, 'r', label='Training Accuracy')\n",
        "plt.title('Training Accuracy')\n",
        "\n",
        "plt.figure()\n",
        "\n",
        "plt.plot(epochs, loss, 'r', label='Training Loss')\n",
        "plt.title('Training Loss')\n",
        "plt.legend()\n",
        "\n",
        "plt.show()"
      ],
      "execution_count": 13,
      "outputs": [
        {
          "output_type": "display_data",
          "data": {
            "image/png": "[encoded data removed]",
            "text/plain": [
              "<Figure size 432x288 with 1 Axes>"
            ]
          },
          "metadata": {
            "tags": []
          }
        },
        {
          "output_type": "display_data",
          "data": {
            "image/png": "[encoded data removed]",
            "text/plain": [
              "<Figure size 432x288 with 1 Axes>"
            ]
          },
          "metadata": {
            "tags": []
          }
        }
      ]
    },
    {
      "cell_type": "code",
      "metadata": {
        "id": "RvesjasKVVtF",
        "colab_type": "code",
        "colab": {}
      },
      "source": [
        "# Predictions\n",
        "\n",
        "X_test = testdf_clean.iloc[:,1]\n",
        "Y_test = testdf_clean['istoxic']\n",
        "X_test = tokenizer.texts_to_sequences(X_test)\n",
        "X_test = sequence.pad_sequences(X_test, maxlen = MAXLEN)\n"
      ],
      "execution_count": 14,
      "outputs": []
    },
    {
      "cell_type": "code",
      "metadata": {
        "id": "q-J7Zg0NYwpb",
        "colab_type": "code",
        "colab": {
          "base_uri": "https://localhost:8080/",
          "height": 190
        },
        "outputId": "867ca16e-b668-4211-c4e3-78192c9d61cf"
      },
      "source": [
        "# Predict and\n",
        "Y_pred = model.predict_classes(X_test, verbose=1)\n",
        "\n",
        "conf = confusion_matrix(y_true=Y_test, y_pred=Y_pred)"
      ],
      "execution_count": 15,
      "outputs": [
        {
          "output_type": "stream",
          "text": [
            "WARNING:tensorflow:From <ipython-input-15-5c86a6c7b773>:2: Sequential.predict_classes (from tensorflow.python.keras.engine.sequential) is deprecated and will be removed after 2021-01-01.\n",
            "Instructions for updating:\n",
            "Please use instead:* `np.argmax(model.predict(x), axis=-1)`,   if your model does multi-class classification   (e.g. if it uses a `softmax` last-layer activation).* `(model.predict(x) > 0.5).astype(\"int32\")`,   if your model does binary classification   (e.g. if it uses a `sigmoid` last-layer activation).\n"
          ],
          "name": "stdout"
        },
        {
          "output_type": "stream",
          "text": [
            "WARNING:tensorflow:From <ipython-input-15-5c86a6c7b773>:2: Sequential.predict_classes (from tensorflow.python.keras.engine.sequential) is deprecated and will be removed after 2021-01-01.\n",
            "Instructions for updating:\n",
            "Please use instead:* `np.argmax(model.predict(x), axis=-1)`,   if your model does multi-class classification   (e.g. if it uses a `softmax` last-layer activation).* `(model.predict(x) > 0.5).astype(\"int32\")`,   if your model does binary classification   (e.g. if it uses a `sigmoid` last-layer activation).\n"
          ],
          "name": "stderr"
        },
        {
          "output_type": "stream",
          "text": [
            "   2/2000 [..............................] - ETA: 7:48WARNING:tensorflow:Callbacks method `on_predict_batch_end` is slow compared to the batch time (batch time: 0.0015s vs `on_predict_batch_end` time: 0.0094s). Check your callbacks.\n"
          ],
          "name": "stdout"
        },
        {
          "output_type": "stream",
          "text": [
            "WARNING:tensorflow:Callbacks method `on_predict_batch_end` is slow compared to the batch time (batch time: 0.0015s vs `on_predict_batch_end` time: 0.0094s). Check your callbacks.\n"
          ],
          "name": "stderr"
        },
        {
          "output_type": "stream",
          "text": [
            "2000/2000 [==============================] - 22s 11ms/step\n"
          ],
          "name": "stdout"
        }
      ]
    },
    {
      "cell_type": "code",
      "metadata": {
        "id": "3mEpUbX7cQrV",
        "colab_type": "code",
        "colab": {
          "base_uri": "https://localhost:8080/",
          "height": 467
        },
        "outputId": "9977d743-0033-48b3-f635-ced1ccfb081a"
      },
      "source": [
        "# Build confusion matrix\n",
        "\n",
        "import itertools\n",
        "\n",
        "conf_acc = np.trace(conf) / float(np.sum(conf))\n",
        "conf_misclass = 1-conf_acc\n",
        "\n",
        "plt.figure(figsize=(8, 6))\n",
        "plt.imshow(conf, interpolation='nearest', cmap='Blues')\n",
        "plt.title('Confusion Matrix')\n",
        "plt.colorbar()\n",
        "conf = conf.astype('float') / conf.sum(axis=1)[:, np.newaxis]\n",
        "thresh = conf.max()/1.5\n",
        "\n",
        "for i, j in itertools.product(range(conf.shape[0]), range(conf.shape[1])):\n",
        "    plt.text(j, i, \"{:0.4f}\".format(conf[i, j]),\n",
        "              horizontalalignment=\"center\",\n",
        "              color=\"white\" if conf[i, j] > thresh else \"black\")\n",
        "    \n",
        "plt.tight_layout()\n",
        "plt.ylabel('True label')\n",
        "plt.xlabel('Predicted label\\naccuracy={:0.4f}; misclass={:0.4f}'.format(conf_acc, conf_misclass))\n",
        "plt.show()"
      ],
      "execution_count": 17,
      "outputs": [
        {
          "output_type": "display_data",
          "data": {
            "image/png": "[encoded data removed]",
            "text/plain": [
              "<Figure size 576x432 with 2 Axes>"
            ]
          },
          "metadata": {
            "tags": []
          }
        }
      ]
    },
    {
      "cell_type": "code",
      "metadata": {
        "id": "M1AFfO_6ncid",
        "colab_type": "code",
        "colab": {}
      },
      "source": [
        "# Save model\n",
        "import json\n",
        "\n",
        "model.save(data_dir+'jigsawmodel.h5')\n",
        "token_json = tokenizer.to_json()\n",
        "with open(data_dir+'token_json.txt', 'w') as outfile:\n",
        "  json.dump(token_json, outfile)"
      ],
      "execution_count": 19,
      "outputs": []
    },
    {
      "cell_type": "code",
      "metadata": {
        "id": "vrRleRkioSiP",
        "colab_type": "code",
        "colab": {}
      },
      "source": [
        "df_ffxiv = pd.read_csv(data_dir+'ffxiv2020-07-30to2020-08-06.csv')\n",
        "df_wow = pd.read_csv(data_dir+'wow2020-07-30to2020-08-06.csv')\n",
        "df_lol = pd.read_csv(data_dir+'leagueoflegends2020-07-30to2020-08-06.csv')"
      ],
      "execution_count": 20,
      "outputs": []
    },
    {
      "cell_type": "code",
      "metadata": {
        "id": "1a9WKPwAHJJk",
        "colab_type": "code",
        "colab": {}
      },
      "source": [
        "df_wow['text'].fillna(' ', inplace=True) # Wow and lol dataset contain nan's, replace\n",
        "df_lol['text'].fillna(' ', inplace=True)"
      ],
      "execution_count": 21,
      "outputs": []
    },
    {
      "cell_type": "code",
      "metadata": {
        "id": "YxkclcTFOBA_",
        "colab_type": "code",
        "colab": {}
      },
      "source": [
        "X_test_ff = df_ffxiv.iloc[:,1]\n",
        "X_test_wow = df_wow.iloc[:,1]\n",
        "X_test_lol = df_lol.iloc[:,1]"
      ],
      "execution_count": 23,
      "outputs": []
    },
    {
      "cell_type": "code",
      "metadata": {
        "id": "MdxyVKo5Oe-Y",
        "colab_type": "code",
        "colab": {}
      },
      "source": [
        "X_test_ff = tokenizer.texts_to_sequences(X_test_ff)\n",
        "X_test_ff = sequence.pad_sequences(X_test_ff, maxlen=MAXLEN)\n",
        "\n",
        "X_test_wow = tokenizer.texts_to_sequences(X_test_wow)\n",
        "X_test_wow = sequence.pad_sequences(X_test_wow, maxlen=MAXLEN)\n",
        "\n",
        "X_test_lol = tokenizer.texts_to_sequences(X_test_lol)\n",
        "X_test_lol = sequence.pad_sequences(X_test_lol, maxlen=MAXLEN)"
      ],
      "execution_count": 25,
      "outputs": []
    },
    {
      "cell_type": "code",
      "metadata": {
        "id": "jI2ttHbpOxOX",
        "colab_type": "code",
        "colab": {
          "base_uri": "https://localhost:8080/",
          "height": 190
        },
        "outputId": "fef96a55-6369-4cf4-f130-e3c54fe12d5e"
      },
      "source": [
        "Y_pred_ff = model.predict_classes(X_test_ff, verbose = 1)\n",
        "Y_pred_wow = model.predict_classes(X_test_wow, verbose = 1)\n",
        "Y_pred_lol = model.predict_classes(X_test_lol, verbose = 1)"
      ],
      "execution_count": 27,
      "outputs": [
        {
          "output_type": "stream",
          "text": [
            "\r  1/827 [..............................] - ETA: 0sWARNING:tensorflow:Callbacks method `on_predict_batch_end` is slow compared to the batch time (batch time: 0.0017s vs `on_predict_batch_end` time: 0.0132s). Check your callbacks.\n"
          ],
          "name": "stdout"
        },
        {
          "output_type": "stream",
          "text": [
            "WARNING:tensorflow:Callbacks method `on_predict_batch_end` is slow compared to the batch time (batch time: 0.0017s vs `on_predict_batch_end` time: 0.0132s). Check your callbacks.\n"
          ],
          "name": "stderr"
        },
        {
          "output_type": "stream",
          "text": [
            "827/827 [==============================] - 8s 10ms/step\n",
            "   1/1367 [..............................] - ETA: 0sWARNING:tensorflow:Callbacks method `on_predict_batch_end` is slow compared to the batch time (batch time: 0.0015s vs `on_predict_batch_end` time: 0.0076s). Check your callbacks.\n"
          ],
          "name": "stdout"
        },
        {
          "output_type": "stream",
          "text": [
            "WARNING:tensorflow:Callbacks method `on_predict_batch_end` is slow compared to the batch time (batch time: 0.0015s vs `on_predict_batch_end` time: 0.0076s). Check your callbacks.\n"
          ],
          "name": "stderr"
        },
        {
          "output_type": "stream",
          "text": [
            "1367/1367 [==============================] - 14s 10ms/step\n",
            "   1/4038 [..............................] - ETA: 0sWARNING:tensorflow:Callbacks method `on_predict_batch_end` is slow compared to the batch time (batch time: 0.0015s vs `on_predict_batch_end` time: 0.0088s). Check your callbacks.\n"
          ],
          "name": "stdout"
        },
        {
          "output_type": "stream",
          "text": [
            "WARNING:tensorflow:Callbacks method `on_predict_batch_end` is slow compared to the batch time (batch time: 0.0015s vs `on_predict_batch_end` time: 0.0088s). Check your callbacks.\n"
          ],
          "name": "stderr"
        },
        {
          "output_type": "stream",
          "text": [
            "4038/4038 [==============================] - 42s 10ms/step\n"
          ],
          "name": "stdout"
        }
      ]
    },
    {
      "cell_type": "code",
      "metadata": {
        "id": "qLsOEwNkPSrJ",
        "colab_type": "code",
        "colab": {}
      },
      "source": [
        "df_ffxiv[\"istoxic_pred\"] = Y_pred_ff\n",
        "df_wow[\"istoxic_pred\"] = Y_pred_wow\n",
        "df_lol[\"istoxic_pred\"] = Y_pred_lol"
      ],
      "execution_count": 30,
      "outputs": []
    },
    {
      "cell_type": "code",
      "metadata": {
        "id": "CnccMPNZPz1-",
        "colab_type": "code",
        "colab": {}
      },
      "source": [
        "# df_ffxiv[\"istoxic_pred\"].value_counts()\n",
        "# df_wow[\"istoxic_pred\"].value_counts()\n",
        "# df_lol[\"istoxic_pred\"].value_counts()\n",
        "\n",
        "ffxiv_toxiclevels = df_ffxiv['istoxic_pred'].value_counts()[1]/len(df_ffxiv)\n",
        "wow_toxiclevels = df_wow['istoxic_pred'].value_counts()[1]/len(df_wow)\n",
        "lol_toxiclevels = df_lol['istoxic_pred'].value_counts()[1]/len(df_lol)"
      ],
      "execution_count": 32,
      "outputs": []
    },
    {
      "cell_type": "code",
      "metadata": {
        "id": "fTN_WKWIQTmU",
        "colab_type": "code",
        "colab": {
          "base_uri": "https://localhost:8080/",
          "height": 102
        },
        "outputId": "356943fc-e9ba-4850-dd68-db46b95d2f74"
      },
      "source": [
        "print(\"Percentage of Comments that are Toxic in Subreddits\")\n",
        "print(\"=\"*50)\n",
        "print(\"FFXIV: \".ljust(10) + str(ffxiv_toxiclevels).ljust(25) + (\"%.4f%%\" % (ffxiv_toxiclevels*100)))\n",
        "print(\"WoW: \".ljust(10) + str(wow_toxiclevels).ljust(25) + (\"%.4f%%\" % (wow_toxiclevels*100)))\n",
        "print(\"LoL: \".ljust(10) + str(lol_toxiclevels).ljust(25) + (\"%.4f%%\" % (lol_toxiclevels*100)))"
      ],
      "execution_count": 33,
      "outputs": [
        {
          "output_type": "stream",
          "text": [
            "Percentage of Comments that are Toxic in Subreddits\n",
            "==================================================\n",
            "FFXIV:    0.06179095446982302      6.1791%\n",
            "WoW:      0.0810062893081761       8.1006%\n",
            "LoL:      0.0982105540161917       9.8211%\n"
          ],
          "name": "stdout"
        }
      ]
    }
  ]
}